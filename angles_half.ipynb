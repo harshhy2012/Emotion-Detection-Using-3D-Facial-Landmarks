{
 "metadata": {
  "language_info": {
   "codemirror_mode": {
    "name": "ipython",
    "version": 3
   },
   "file_extension": ".py",
   "mimetype": "text/x-python",
   "name": "python",
   "nbconvert_exporter": "python",
   "pygments_lexer": "ipython3",
   "version": "3.8.5-final"
  },
  "orig_nbformat": 2,
  "kernelspec": {
   "name": "Python 3.8.5 64-bit",
   "display_name": "Python 3.8.5 64-bit",
   "metadata": {
    "interpreter": {
     "hash": "7df332387c0946b9fa392827f6610f004e6a54f5679a7c41b4cedf79853f2c0c"
    }
   }
  }
 },
 "nbformat": 4,
 "nbformat_minor": 2,
 "cells": [
  {
   "cell_type": "code",
   "execution_count": 1,
   "metadata": {},
   "outputs": [],
   "source": [
    "import numpy as np\n",
    "import pandas as pd\n",
    "import os"
   ]
  },
  {
   "cell_type": "code",
   "execution_count": 2,
   "metadata": {},
   "outputs": [],
   "source": [
    "path =  os.path.normpath(os.getcwd() + os.sep + os.pardir)\n",
    "path.replace('/','\\\\\\\\')\n",
    "path += '\\\\\\\\'\n",
    "path+='Emotion_final_CK_plus_XYZ.csv'"
   ]
  },
  {
   "cell_type": "code",
   "execution_count": 3,
   "metadata": {},
   "outputs": [],
   "source": [
    "df = pd.read_csv(path)\n",
    "df = df.drop(['Image_name'], axis = 1)\n",
    "df = df.drop(['Unnamed: 0'], axis = 1)"
   ]
  },
  {
   "cell_type": "code",
   "execution_count": 4,
   "metadata": {},
   "outputs": [],
   "source": [
    "X = []\n",
    "y = []\n",
    "y = df.Emotion\n",
    "df = df.drop(['Emotion'], axis = 1)\n",
    "X = df.to_numpy()"
   ]
  },
  {
   "cell_type": "code",
   "execution_count": 5,
   "metadata": {},
   "outputs": [],
   "source": [
    "find_angle = []\n",
    "img68x3 = []\n",
    "vec = []\n",
    "for img in X:\n",
    "    i=0\n",
    "    while i in range(0,len(img)):\n",
    "        img68x3.append([img[i],img[i+1],img[i+2]])\n",
    "        i+=3\n",
    "    find_angle.append(img68x3)\n",
    "    img68x3=[]\n",
    "    \n",
    "find_angle = np.array(find_angle)"
   ]
  },
  {
   "cell_type": "code",
   "execution_count": 6,
   "metadata": {},
   "outputs": [],
   "source": [
    "dot_prod = []\n",
    "for img in find_angle:\n",
    "    dot_prod.append(np.dot(img,np.transpose(img)))\n",
    "\n",
    "dot_prod = np.array(dot_prod)"
   ]
  },
  {
   "cell_type": "code",
   "execution_count": 7,
   "metadata": {},
   "outputs": [],
   "source": [
    "all_mag = []\n",
    "imag_mag = []\n",
    "mag = []\n",
    "for img in find_angle:\n",
    "    for row in img:\n",
    "        for col in img:\n",
    "            mag.append(np.linalg.norm(row)*np.linalg.norm(col))\n",
    "        imag_mag.append(mag)\n",
    "        mag = []\n",
    "    all_mag.append(imag_mag)\n",
    "    imag_mag = []\n",
    "all_mag = np.array(all_mag)\n"
   ]
  },
  {
   "cell_type": "code",
   "execution_count": 8,
   "metadata": {},
   "outputs": [
    {
     "output_type": "stream",
     "name": "stdout",
     "text": [
      "(920, 68, 68)\n(920, 68, 68)\n"
     ]
    }
   ],
   "source": [
    "print(all_mag.shape)\n",
    "print(dot_prod.shape)"
   ]
  },
  {
   "cell_type": "code",
   "execution_count": 9,
   "metadata": {},
   "outputs": [
    {
     "output_type": "execute_result",
     "data": {
      "text/plain": [
       "array([[1.        , 0.9983749 , 0.9943682 , ..., 0.95465024, 0.9517213 ,\n",
       "        0.95096953],\n",
       "       [0.9983749 , 1.        , 0.99879117, ..., 0.96069615, 0.95914719,\n",
       "        0.95885319],\n",
       "       [0.9943682 , 0.99879117, 1.        , ..., 0.9629941 , 0.96264306,\n",
       "        0.96274787],\n",
       "       ...,\n",
       "       [0.95465024, 0.96069615, 0.9629941 , ..., 1.        , 0.99970088,\n",
       "        0.99946457],\n",
       "       [0.9517213 , 0.95914719, 0.96264306, ..., 0.99970088, 1.        ,\n",
       "        0.9999652 ],\n",
       "       [0.95096953, 0.95885319, 0.96274787, ..., 0.99946457, 0.9999652 ,\n",
       "        1.        ]])"
      ]
     },
     "metadata": {},
     "execution_count": 9
    }
   ],
   "source": [
    "cos_theta = []\n",
    "for mat,mag in zip(dot_prod,all_mag):\n",
    "    cos_theta.append(np.divide(mat,mag))\n",
    "\n",
    "cos_theta = np.array(cos_theta)\n",
    "\n",
    "cos_theta[0]"
   ]
  },
  {
   "cell_type": "code",
   "execution_count": 10,
   "metadata": {},
   "outputs": [],
   "source": [
    "theta = []\n",
    "for img in cos_theta:\n",
    "    theta.append(np.arccos(img))\n",
    "\n",
    "theta = np.array(theta)"
   ]
  },
  {
   "cell_type": "code",
   "execution_count": 11,
   "metadata": {},
   "outputs": [
    {
     "output_type": "execute_result",
     "data": {
      "text/plain": [
       "array([0.31444065, 0.2878615 , 0.27380922, 0.26115681, 0.23184324,\n",
       "       0.1842034 , 0.12884392, 0.09080893, 0.06009207, 0.08998813,\n",
       "       0.15632148, 0.21204872, 0.27010094, 0.32022628, 0.35428893,\n",
       "       0.39579538, 0.44293729, 0.23735865, 0.29686579, 0.35024811,\n",
       "       0.36287149, 0.37295051, 0.42375614, 0.44792025, 0.46114845,\n",
       "       0.46454135, 0.444223  , 0.30990648, 0.26600168, 0.23597408,\n",
       "       0.21499098, 0.14380964, 0.15751157, 0.16956583, 0.18383195,\n",
       "       0.19308564, 0.20158157, 0.24644402, 0.25715405, 0.25354582,\n",
       "       0.22931896, 0.20833845, 0.33321828, 0.36404545, 0.37623679,\n",
       "       0.37222006, 0.35191243, 0.33540896, 0.03602381, 0.08814484,\n",
       "       0.13224472, 0.13783999, 0.14689721, 0.13572031, 0.11816108,\n",
       "       0.05679753, 0.02220345, 0.00766296, 0.02685911, 0.01327657,\n",
       "       0.04396959, 0.10710197, 0.12017145, 0.1212655 , 0.11360836,\n",
       "       0.03272538, 0.00834312,        nan])"
      ]
     },
     "metadata": {},
     "execution_count": 11
    }
   ],
   "source": [
    "# make 68x68 matrix triangular\n",
    "i = 0\n",
    "j = 0\n",
    "for img in theta:\n",
    "    i = 0\n",
    "    j = 0\n",
    "    while i in range(0,68):\n",
    "        j=i\n",
    "        while j in range(0,68):\n",
    "            img[i][j] = np.nan\n",
    "            j+=1\n",
    "        i+=1\n",
    "    \n",
    "\n",
    "theta[0][67]"
   ]
  },
  {
   "cell_type": "code",
   "execution_count": 12,
   "metadata": {},
   "outputs": [
    {
     "output_type": "stream",
     "name": "stdout",
     "text": [
      "(920, 4624)\n",
      "\n"
     ]
    },
    {
     "output_type": "execute_result",
     "data": {
      "text/plain": [
       "(920, 595)"
      ]
     },
     "metadata": {},
     "execution_count": 12
    }
   ],
   "source": [
    "flat = []\n",
    "final = []\n",
    "\n",
    "for img in theta:\n",
    "    img = img.flatten(order='F')\n",
    "    flat.append(img)\n",
    "flat = np.array(flat)\n",
    "print(flat.shape)\n",
    "for img in flat:\n",
    "    i=0\n",
    "    while i <2278:\n",
    "        img[i] = np.nan\n",
    "        i+=1\n",
    "\n",
    "print()\n",
    "for img in flat:\n",
    "    img = img[~np.isnan(img)]\n",
    "    final.append(img)\n",
    "\n",
    "final = np.array(final)\n",
    "final.shape"
   ]
  },
  {
   "cell_type": "code",
   "execution_count": 13,
   "metadata": {},
   "outputs": [],
   "source": [
    "col_list = []\n",
    "i=0\n",
    "while i in range(0,595):\n",
    "    col_list.append(i)\n",
    "    i+=1\n",
    "\n",
    "index_list = []\n",
    "i = 0\n",
    "while i in range(0,920):\n",
    "    index_list.append(i)\n",
    "    i+=1"
   ]
  },
  {
   "cell_type": "code",
   "execution_count": 14,
   "metadata": {},
   "outputs": [
    {
     "output_type": "execute_result",
     "data": {
      "text/plain": [
       "          0         1         2         3         4         5         6    \\\n",
       "0    0.019065  0.034197  0.041627  0.077516  0.089023  0.089342  0.061616   \n",
       "1    0.020110  0.040267  0.026765  0.052838  0.072912  0.078231  0.053360   \n",
       "2    0.013495  0.028853  0.074962  0.088273  0.113956  0.115252  0.086444   \n",
       "3    0.019421  0.041423  0.058100  0.043613  0.070153  0.080096  0.057440   \n",
       "4    0.026356  0.047067  0.018791  0.050971  0.082655  0.083528  0.047703   \n",
       "..        ...       ...       ...       ...       ...       ...       ...   \n",
       "915  0.021486  0.045819  0.054373  0.081687  0.105696  0.115064  0.081598   \n",
       "916  0.028203  0.044725  0.049835  0.045454  0.079286  0.097327  0.054442   \n",
       "917  0.027400  0.044175  0.080920  0.087921  0.112789  0.124132  0.086018   \n",
       "918  0.024991  0.048376  0.059663  0.091644  0.116925  0.129021  0.101302   \n",
       "919  0.032626  0.051436  0.088841  0.079994  0.111816  0.130563  0.092163   \n",
       "\n",
       "          7         8         9    ...       585       586       587  \\\n",
       "0    0.040538  0.171466  0.200452  ...  0.060841  0.092288  0.113318   \n",
       "1    0.027656  0.161131  0.188959  ...  0.062187  0.077265  0.090188   \n",
       "2    0.060899  0.180718  0.203890  ...  0.055570  0.069693  0.086238   \n",
       "3    0.040817  0.170835  0.192803  ...  0.051865  0.051752  0.071348   \n",
       "4    0.013664  0.214512  0.248113  ...  0.100685  0.131264  0.159416   \n",
       "..        ...       ...       ...  ...       ...       ...       ...   \n",
       "915  0.051855  0.199356  0.236353  ...  0.062480  0.004068  0.019357   \n",
       "916  0.034980  0.189337  0.227331  ...  0.055981  0.009498  0.020010   \n",
       "917  0.065747  0.197832  0.215450  ...  0.048455  0.002499  0.012041   \n",
       "918  0.056215  0.231059  0.263304  ...  0.057433  0.000883  0.015905   \n",
       "919  0.070505  0.228987  0.250412  ...  0.048580  0.009892  0.024826   \n",
       "\n",
       "          588       589       590       591       592       593       594  \n",
       "0    0.121265  0.081134  0.105487  0.113608  0.024460  0.032725  0.008343  \n",
       "1    0.103256  0.074691  0.091584  0.104529  0.016930  0.030310  0.013732  \n",
       "2    0.093010  0.069510  0.088854  0.094042  0.019604  0.025552  0.006792  \n",
       "3    0.084014  0.053122  0.075460  0.086727  0.023323  0.035802  0.012844  \n",
       "4    0.182342  0.113976  0.151019  0.172287  0.037067  0.059132  0.023352  \n",
       "..        ...       ...       ...       ...       ...       ...       ...  \n",
       "915  0.032361  0.059269  0.078036  0.088438  0.020576  0.033208  0.013082  \n",
       "916  0.041126  0.054423  0.067464  0.085110  0.014316  0.035193  0.021247  \n",
       "917  0.028932  0.046155  0.055958  0.067844  0.012746  0.029383  0.016916  \n",
       "918  0.030880  0.058146  0.071420  0.083479  0.015601  0.030685  0.015292  \n",
       "919  0.046888  0.058213  0.071307  0.089920  0.015461  0.038140  0.022879  \n",
       "\n",
       "[920 rows x 595 columns]"
      ],
      "text/html": "<div>\n<style scoped>\n    .dataframe tbody tr th:only-of-type {\n        vertical-align: middle;\n    }\n\n    .dataframe tbody tr th {\n        vertical-align: top;\n    }\n\n    .dataframe thead th {\n        text-align: right;\n    }\n</style>\n<table border=\"1\" class=\"dataframe\">\n  <thead>\n    <tr style=\"text-align: right;\">\n      <th></th>\n      <th>0</th>\n      <th>1</th>\n      <th>2</th>\n      <th>3</th>\n      <th>4</th>\n      <th>5</th>\n      <th>6</th>\n      <th>7</th>\n      <th>8</th>\n      <th>9</th>\n      <th>...</th>\n      <th>585</th>\n      <th>586</th>\n      <th>587</th>\n      <th>588</th>\n      <th>589</th>\n      <th>590</th>\n      <th>591</th>\n      <th>592</th>\n      <th>593</th>\n      <th>594</th>\n    </tr>\n  </thead>\n  <tbody>\n    <tr>\n      <th>0</th>\n      <td>0.019065</td>\n      <td>0.034197</td>\n      <td>0.041627</td>\n      <td>0.077516</td>\n      <td>0.089023</td>\n      <td>0.089342</td>\n      <td>0.061616</td>\n      <td>0.040538</td>\n      <td>0.171466</td>\n      <td>0.200452</td>\n      <td>...</td>\n      <td>0.060841</td>\n      <td>0.092288</td>\n      <td>0.113318</td>\n      <td>0.121265</td>\n      <td>0.081134</td>\n      <td>0.105487</td>\n      <td>0.113608</td>\n      <td>0.024460</td>\n      <td>0.032725</td>\n      <td>0.008343</td>\n    </tr>\n    <tr>\n      <th>1</th>\n      <td>0.020110</td>\n      <td>0.040267</td>\n      <td>0.026765</td>\n      <td>0.052838</td>\n      <td>0.072912</td>\n      <td>0.078231</td>\n      <td>0.053360</td>\n      <td>0.027656</td>\n      <td>0.161131</td>\n      <td>0.188959</td>\n      <td>...</td>\n      <td>0.062187</td>\n      <td>0.077265</td>\n      <td>0.090188</td>\n      <td>0.103256</td>\n      <td>0.074691</td>\n      <td>0.091584</td>\n      <td>0.104529</td>\n      <td>0.016930</td>\n      <td>0.030310</td>\n      <td>0.013732</td>\n    </tr>\n    <tr>\n      <th>2</th>\n      <td>0.013495</td>\n      <td>0.028853</td>\n      <td>0.074962</td>\n      <td>0.088273</td>\n      <td>0.113956</td>\n      <td>0.115252</td>\n      <td>0.086444</td>\n      <td>0.060899</td>\n      <td>0.180718</td>\n      <td>0.203890</td>\n      <td>...</td>\n      <td>0.055570</td>\n      <td>0.069693</td>\n      <td>0.086238</td>\n      <td>0.093010</td>\n      <td>0.069510</td>\n      <td>0.088854</td>\n      <td>0.094042</td>\n      <td>0.019604</td>\n      <td>0.025552</td>\n      <td>0.006792</td>\n    </tr>\n    <tr>\n      <th>3</th>\n      <td>0.019421</td>\n      <td>0.041423</td>\n      <td>0.058100</td>\n      <td>0.043613</td>\n      <td>0.070153</td>\n      <td>0.080096</td>\n      <td>0.057440</td>\n      <td>0.040817</td>\n      <td>0.170835</td>\n      <td>0.192803</td>\n      <td>...</td>\n      <td>0.051865</td>\n      <td>0.051752</td>\n      <td>0.071348</td>\n      <td>0.084014</td>\n      <td>0.053122</td>\n      <td>0.075460</td>\n      <td>0.086727</td>\n      <td>0.023323</td>\n      <td>0.035802</td>\n      <td>0.012844</td>\n    </tr>\n    <tr>\n      <th>4</th>\n      <td>0.026356</td>\n      <td>0.047067</td>\n      <td>0.018791</td>\n      <td>0.050971</td>\n      <td>0.082655</td>\n      <td>0.083528</td>\n      <td>0.047703</td>\n      <td>0.013664</td>\n      <td>0.214512</td>\n      <td>0.248113</td>\n      <td>...</td>\n      <td>0.100685</td>\n      <td>0.131264</td>\n      <td>0.159416</td>\n      <td>0.182342</td>\n      <td>0.113976</td>\n      <td>0.151019</td>\n      <td>0.172287</td>\n      <td>0.037067</td>\n      <td>0.059132</td>\n      <td>0.023352</td>\n    </tr>\n    <tr>\n      <th>...</th>\n      <td>...</td>\n      <td>...</td>\n      <td>...</td>\n      <td>...</td>\n      <td>...</td>\n      <td>...</td>\n      <td>...</td>\n      <td>...</td>\n      <td>...</td>\n      <td>...</td>\n      <td>...</td>\n      <td>...</td>\n      <td>...</td>\n      <td>...</td>\n      <td>...</td>\n      <td>...</td>\n      <td>...</td>\n      <td>...</td>\n      <td>...</td>\n      <td>...</td>\n      <td>...</td>\n    </tr>\n    <tr>\n      <th>915</th>\n      <td>0.021486</td>\n      <td>0.045819</td>\n      <td>0.054373</td>\n      <td>0.081687</td>\n      <td>0.105696</td>\n      <td>0.115064</td>\n      <td>0.081598</td>\n      <td>0.051855</td>\n      <td>0.199356</td>\n      <td>0.236353</td>\n      <td>...</td>\n      <td>0.062480</td>\n      <td>0.004068</td>\n      <td>0.019357</td>\n      <td>0.032361</td>\n      <td>0.059269</td>\n      <td>0.078036</td>\n      <td>0.088438</td>\n      <td>0.020576</td>\n      <td>0.033208</td>\n      <td>0.013082</td>\n    </tr>\n    <tr>\n      <th>916</th>\n      <td>0.028203</td>\n      <td>0.044725</td>\n      <td>0.049835</td>\n      <td>0.045454</td>\n      <td>0.079286</td>\n      <td>0.097327</td>\n      <td>0.054442</td>\n      <td>0.034980</td>\n      <td>0.189337</td>\n      <td>0.227331</td>\n      <td>...</td>\n      <td>0.055981</td>\n      <td>0.009498</td>\n      <td>0.020010</td>\n      <td>0.041126</td>\n      <td>0.054423</td>\n      <td>0.067464</td>\n      <td>0.085110</td>\n      <td>0.014316</td>\n      <td>0.035193</td>\n      <td>0.021247</td>\n    </tr>\n    <tr>\n      <th>917</th>\n      <td>0.027400</td>\n      <td>0.044175</td>\n      <td>0.080920</td>\n      <td>0.087921</td>\n      <td>0.112789</td>\n      <td>0.124132</td>\n      <td>0.086018</td>\n      <td>0.065747</td>\n      <td>0.197832</td>\n      <td>0.215450</td>\n      <td>...</td>\n      <td>0.048455</td>\n      <td>0.002499</td>\n      <td>0.012041</td>\n      <td>0.028932</td>\n      <td>0.046155</td>\n      <td>0.055958</td>\n      <td>0.067844</td>\n      <td>0.012746</td>\n      <td>0.029383</td>\n      <td>0.016916</td>\n    </tr>\n    <tr>\n      <th>918</th>\n      <td>0.024991</td>\n      <td>0.048376</td>\n      <td>0.059663</td>\n      <td>0.091644</td>\n      <td>0.116925</td>\n      <td>0.129021</td>\n      <td>0.101302</td>\n      <td>0.056215</td>\n      <td>0.231059</td>\n      <td>0.263304</td>\n      <td>...</td>\n      <td>0.057433</td>\n      <td>0.000883</td>\n      <td>0.015905</td>\n      <td>0.030880</td>\n      <td>0.058146</td>\n      <td>0.071420</td>\n      <td>0.083479</td>\n      <td>0.015601</td>\n      <td>0.030685</td>\n      <td>0.015292</td>\n    </tr>\n    <tr>\n      <th>919</th>\n      <td>0.032626</td>\n      <td>0.051436</td>\n      <td>0.088841</td>\n      <td>0.079994</td>\n      <td>0.111816</td>\n      <td>0.130563</td>\n      <td>0.092163</td>\n      <td>0.070505</td>\n      <td>0.228987</td>\n      <td>0.250412</td>\n      <td>...</td>\n      <td>0.048580</td>\n      <td>0.009892</td>\n      <td>0.024826</td>\n      <td>0.046888</td>\n      <td>0.058213</td>\n      <td>0.071307</td>\n      <td>0.089920</td>\n      <td>0.015461</td>\n      <td>0.038140</td>\n      <td>0.022879</td>\n    </tr>\n  </tbody>\n</table>\n<p>920 rows × 595 columns</p>\n</div>"
     },
     "metadata": {},
     "execution_count": 14
    }
   ],
   "source": [
    "df_half = pd.DataFrame(data=final, index=index_list, columns=col_list)\n",
    "df_half"
   ]
  },
  {
   "cell_type": "code",
   "execution_count": 15,
   "metadata": {},
   "outputs": [],
   "source": [
    "for col in df_half:\n",
    "    df_half[col] = (df_half[col]-df_half[col].mean())/df_half[col].std()"
   ]
  },
  {
   "cell_type": "code",
   "execution_count": 21,
   "metadata": {},
   "outputs": [
    {
     "output_type": "execute_result",
     "data": {
      "text/plain": [
       "            0         1         2         3         4         5         6  \\\n",
       "0   -0.730794 -1.339760 -0.199382  0.530546 -0.111356 -0.496046 -0.328774   \n",
       "1   -0.538266 -0.496404 -0.862728 -0.553536 -0.827546 -1.052911 -0.756310   \n",
       "2   -1.756659 -2.082345  1.288532  1.003061  0.996963  0.802519  0.957016   \n",
       "3   -0.665264 -0.335885  0.535899 -0.958799 -0.950189 -0.959479 -0.545018   \n",
       "4    0.612236  0.448329 -1.218626 -0.635546 -0.394438 -0.787464 -1.049271   \n",
       "..        ...       ...       ...       ...       ...       ...       ...   \n",
       "915 -0.284855  0.274969  0.369526  0.713742  0.629793  0.793082  0.706065   \n",
       "916  0.952482  0.122899  0.166976 -0.877927 -0.544193 -0.095861 -0.700262   \n",
       "917  0.804485  0.046572  1.554448  0.987610  0.945117  1.247601  0.934956   \n",
       "918  0.360856  0.630149  0.605654  1.151154  1.128967  1.492625  1.726475   \n",
       "919  1.767120  1.055342  1.908006  0.639387  0.901869  1.569886  1.253212   \n",
       "\n",
       "            7         8         9  ...       586       587       588  \\\n",
       "0   -0.143787 -0.973928 -0.864786  ...  3.722705  3.591233  3.038352   \n",
       "1   -0.820870 -1.436306 -1.310390  ...  2.992201  2.554143  2.252810   \n",
       "2    0.926433 -0.560002 -0.731491  ...  2.623992  2.377048  1.805937   \n",
       "3   -0.129120 -1.002164 -1.161349  ...  1.751595  1.709425  1.413547   \n",
       "4   -1.556316  0.951960  0.983051  ...  5.617974  5.658101  5.702313   \n",
       "..        ...       ...       ...  ...       ...       ...       ...   \n",
       "915  0.451084  0.273890  0.527095  ... -0.567121 -0.621673 -0.839394   \n",
       "916 -0.435894 -0.174345  0.177329  ... -0.303093 -0.592393 -0.457083   \n",
       "917  1.181273  0.205718 -0.283324  ... -0.643430 -0.949677 -0.988948   \n",
       "918  0.680211  1.692304  1.572024  ... -0.722006 -0.776447 -0.903982   \n",
       "919  1.431320  1.599589  1.072181  ... -0.283949 -0.376421 -0.205753   \n",
       "\n",
       "          589       590       591       592       593       594  Emotion  \n",
       "0    1.475381  1.443004  0.903705  0.644293 -0.791195 -2.029267        7  \n",
       "1    0.997288  0.659377  0.456519 -0.719278 -1.089387 -0.965929        7  \n",
       "2    0.612794  0.505474 -0.059998 -0.235076 -1.676767 -2.335302        7  \n",
       "3   -0.603285 -0.249449 -0.420259  0.438361 -0.411317 -1.141198        7  \n",
       "4    3.912448  4.009377  3.793791  2.927239  2.468929  0.932379        7  \n",
       "..        ...       ...       ...       ...       ...       ...      ...  \n",
       "915 -0.147145 -0.104257 -0.336007 -0.058927 -0.731551 -1.094071        0  \n",
       "916 -0.506675 -0.700120 -0.499922 -1.192617 -0.486520  0.517004        0  \n",
       "917 -1.120232 -1.348643 -1.350301 -1.476933 -1.203867 -0.337637        0  \n",
       "918 -0.230443 -0.477167 -0.580229 -0.959821 -1.043098 -0.658026        0  \n",
       "919 -0.225462 -0.483540 -0.263025 -0.985152 -0.122652  0.839033        0  \n",
       "\n",
       "[920 rows x 596 columns]"
      ],
      "text/html": "<div>\n<style scoped>\n    .dataframe tbody tr th:only-of-type {\n        vertical-align: middle;\n    }\n\n    .dataframe tbody tr th {\n        vertical-align: top;\n    }\n\n    .dataframe thead th {\n        text-align: right;\n    }\n</style>\n<table border=\"1\" class=\"dataframe\">\n  <thead>\n    <tr style=\"text-align: right;\">\n      <th></th>\n      <th>0</th>\n      <th>1</th>\n      <th>2</th>\n      <th>3</th>\n      <th>4</th>\n      <th>5</th>\n      <th>6</th>\n      <th>7</th>\n      <th>8</th>\n      <th>9</th>\n      <th>...</th>\n      <th>586</th>\n      <th>587</th>\n      <th>588</th>\n      <th>589</th>\n      <th>590</th>\n      <th>591</th>\n      <th>592</th>\n      <th>593</th>\n      <th>594</th>\n      <th>Emotion</th>\n    </tr>\n  </thead>\n  <tbody>\n    <tr>\n      <th>0</th>\n      <td>-0.730794</td>\n      <td>-1.339760</td>\n      <td>-0.199382</td>\n      <td>0.530546</td>\n      <td>-0.111356</td>\n      <td>-0.496046</td>\n      <td>-0.328774</td>\n      <td>-0.143787</td>\n      <td>-0.973928</td>\n      <td>-0.864786</td>\n      <td>...</td>\n      <td>3.722705</td>\n      <td>3.591233</td>\n      <td>3.038352</td>\n      <td>1.475381</td>\n      <td>1.443004</td>\n      <td>0.903705</td>\n      <td>0.644293</td>\n      <td>-0.791195</td>\n      <td>-2.029267</td>\n      <td>7</td>\n    </tr>\n    <tr>\n      <th>1</th>\n      <td>-0.538266</td>\n      <td>-0.496404</td>\n      <td>-0.862728</td>\n      <td>-0.553536</td>\n      <td>-0.827546</td>\n      <td>-1.052911</td>\n      <td>-0.756310</td>\n      <td>-0.820870</td>\n      <td>-1.436306</td>\n      <td>-1.310390</td>\n      <td>...</td>\n      <td>2.992201</td>\n      <td>2.554143</td>\n      <td>2.252810</td>\n      <td>0.997288</td>\n      <td>0.659377</td>\n      <td>0.456519</td>\n      <td>-0.719278</td>\n      <td>-1.089387</td>\n      <td>-0.965929</td>\n      <td>7</td>\n    </tr>\n    <tr>\n      <th>2</th>\n      <td>-1.756659</td>\n      <td>-2.082345</td>\n      <td>1.288532</td>\n      <td>1.003061</td>\n      <td>0.996963</td>\n      <td>0.802519</td>\n      <td>0.957016</td>\n      <td>0.926433</td>\n      <td>-0.560002</td>\n      <td>-0.731491</td>\n      <td>...</td>\n      <td>2.623992</td>\n      <td>2.377048</td>\n      <td>1.805937</td>\n      <td>0.612794</td>\n      <td>0.505474</td>\n      <td>-0.059998</td>\n      <td>-0.235076</td>\n      <td>-1.676767</td>\n      <td>-2.335302</td>\n      <td>7</td>\n    </tr>\n    <tr>\n      <th>3</th>\n      <td>-0.665264</td>\n      <td>-0.335885</td>\n      <td>0.535899</td>\n      <td>-0.958799</td>\n      <td>-0.950189</td>\n      <td>-0.959479</td>\n      <td>-0.545018</td>\n      <td>-0.129120</td>\n      <td>-1.002164</td>\n      <td>-1.161349</td>\n      <td>...</td>\n      <td>1.751595</td>\n      <td>1.709425</td>\n      <td>1.413547</td>\n      <td>-0.603285</td>\n      <td>-0.249449</td>\n      <td>-0.420259</td>\n      <td>0.438361</td>\n      <td>-0.411317</td>\n      <td>-1.141198</td>\n      <td>7</td>\n    </tr>\n    <tr>\n      <th>4</th>\n      <td>0.612236</td>\n      <td>0.448329</td>\n      <td>-1.218626</td>\n      <td>-0.635546</td>\n      <td>-0.394438</td>\n      <td>-0.787464</td>\n      <td>-1.049271</td>\n      <td>-1.556316</td>\n      <td>0.951960</td>\n      <td>0.983051</td>\n      <td>...</td>\n      <td>5.617974</td>\n      <td>5.658101</td>\n      <td>5.702313</td>\n      <td>3.912448</td>\n      <td>4.009377</td>\n      <td>3.793791</td>\n      <td>2.927239</td>\n      <td>2.468929</td>\n      <td>0.932379</td>\n      <td>7</td>\n    </tr>\n    <tr>\n      <th>...</th>\n      <td>...</td>\n      <td>...</td>\n      <td>...</td>\n      <td>...</td>\n      <td>...</td>\n      <td>...</td>\n      <td>...</td>\n      <td>...</td>\n      <td>...</td>\n      <td>...</td>\n      <td>...</td>\n      <td>...</td>\n      <td>...</td>\n      <td>...</td>\n      <td>...</td>\n      <td>...</td>\n      <td>...</td>\n      <td>...</td>\n      <td>...</td>\n      <td>...</td>\n      <td>...</td>\n    </tr>\n    <tr>\n      <th>915</th>\n      <td>-0.284855</td>\n      <td>0.274969</td>\n      <td>0.369526</td>\n      <td>0.713742</td>\n      <td>0.629793</td>\n      <td>0.793082</td>\n      <td>0.706065</td>\n      <td>0.451084</td>\n      <td>0.273890</td>\n      <td>0.527095</td>\n      <td>...</td>\n      <td>-0.567121</td>\n      <td>-0.621673</td>\n      <td>-0.839394</td>\n      <td>-0.147145</td>\n      <td>-0.104257</td>\n      <td>-0.336007</td>\n      <td>-0.058927</td>\n      <td>-0.731551</td>\n      <td>-1.094071</td>\n      <td>0</td>\n    </tr>\n    <tr>\n      <th>916</th>\n      <td>0.952482</td>\n      <td>0.122899</td>\n      <td>0.166976</td>\n      <td>-0.877927</td>\n      <td>-0.544193</td>\n      <td>-0.095861</td>\n      <td>-0.700262</td>\n      <td>-0.435894</td>\n      <td>-0.174345</td>\n      <td>0.177329</td>\n      <td>...</td>\n      <td>-0.303093</td>\n      <td>-0.592393</td>\n      <td>-0.457083</td>\n      <td>-0.506675</td>\n      <td>-0.700120</td>\n      <td>-0.499922</td>\n      <td>-1.192617</td>\n      <td>-0.486520</td>\n      <td>0.517004</td>\n      <td>0</td>\n    </tr>\n    <tr>\n      <th>917</th>\n      <td>0.804485</td>\n      <td>0.046572</td>\n      <td>1.554448</td>\n      <td>0.987610</td>\n      <td>0.945117</td>\n      <td>1.247601</td>\n      <td>0.934956</td>\n      <td>1.181273</td>\n      <td>0.205718</td>\n      <td>-0.283324</td>\n      <td>...</td>\n      <td>-0.643430</td>\n      <td>-0.949677</td>\n      <td>-0.988948</td>\n      <td>-1.120232</td>\n      <td>-1.348643</td>\n      <td>-1.350301</td>\n      <td>-1.476933</td>\n      <td>-1.203867</td>\n      <td>-0.337637</td>\n      <td>0</td>\n    </tr>\n    <tr>\n      <th>918</th>\n      <td>0.360856</td>\n      <td>0.630149</td>\n      <td>0.605654</td>\n      <td>1.151154</td>\n      <td>1.128967</td>\n      <td>1.492625</td>\n      <td>1.726475</td>\n      <td>0.680211</td>\n      <td>1.692304</td>\n      <td>1.572024</td>\n      <td>...</td>\n      <td>-0.722006</td>\n      <td>-0.776447</td>\n      <td>-0.903982</td>\n      <td>-0.230443</td>\n      <td>-0.477167</td>\n      <td>-0.580229</td>\n      <td>-0.959821</td>\n      <td>-1.043098</td>\n      <td>-0.658026</td>\n      <td>0</td>\n    </tr>\n    <tr>\n      <th>919</th>\n      <td>1.767120</td>\n      <td>1.055342</td>\n      <td>1.908006</td>\n      <td>0.639387</td>\n      <td>0.901869</td>\n      <td>1.569886</td>\n      <td>1.253212</td>\n      <td>1.431320</td>\n      <td>1.599589</td>\n      <td>1.072181</td>\n      <td>...</td>\n      <td>-0.283949</td>\n      <td>-0.376421</td>\n      <td>-0.205753</td>\n      <td>-0.225462</td>\n      <td>-0.483540</td>\n      <td>-0.263025</td>\n      <td>-0.985152</td>\n      <td>-0.122652</td>\n      <td>0.839033</td>\n      <td>0</td>\n    </tr>\n  </tbody>\n</table>\n<p>920 rows × 596 columns</p>\n</div>"
     },
     "metadata": {},
     "execution_count": 21
    }
   ],
   "source": [
    "df_half = df_half.join(y)\n",
    "df_half"
   ]
  },
  {
   "cell_type": "code",
   "execution_count": 22,
   "metadata": {},
   "outputs": [],
   "source": [
    "df_half.to_csv(r'Emotion_final_CK_plus_ANGLE_HALF.csv')"
   ]
  },
  {
   "cell_type": "code",
   "execution_count": null,
   "metadata": {},
   "outputs": [],
   "source": []
  }
 ]
}