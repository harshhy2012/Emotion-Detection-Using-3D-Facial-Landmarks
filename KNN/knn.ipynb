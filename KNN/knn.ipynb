{
 "metadata": {
  "language_info": {
   "codemirror_mode": {
    "name": "ipython",
    "version": 3
   },
   "file_extension": ".py",
   "mimetype": "text/x-python",
   "name": "python",
   "nbconvert_exporter": "python",
   "pygments_lexer": "ipython3",
   "version": "3.8.5-final"
  },
  "orig_nbformat": 2,
  "kernelspec": {
   "name": "Python 3.8.5 64-bit",
   "display_name": "Python 3.8.5 64-bit",
   "metadata": {
    "interpreter": {
     "hash": "7df332387c0946b9fa392827f6610f004e6a54f5679a7c41b4cedf79853f2c0c"
    }
   }
  }
 },
 "nbformat": 4,
 "nbformat_minor": 2,
 "cells": [
  {
   "cell_type": "code",
   "execution_count": 13,
   "metadata": {},
   "outputs": [],
   "source": [
    "from sklearn.metrics import confusion_matrix \n",
    "from sklearn.model_selection import train_test_split \n",
    "import numpy as np \n",
    "import pandas as pd \n",
    "import matplotlib.pyplot as plt \n",
    "from sklearn.model_selection import cross_val_score\n",
    "from sklearn.metrics import classification_report"
   ]
  },
  {
   "cell_type": "code",
   "execution_count": 14,
   "metadata": {},
   "outputs": [
    {
     "output_type": "execute_result",
     "data": {
      "text/plain": [
       "'d:\\\\majorProjectV2\\\\Emotion_final_CK_plus_SPH_NORMAL_XXX.csv'"
      ]
     },
     "metadata": {},
     "execution_count": 14
    }
   ],
   "source": [
    "path =  os.path.normpath(os.getcwd() + os.sep + os.pardir)\n",
    "path.replace('/','\\\\')\n",
    "path += '\\\\'\n",
    "\n",
    "file = ['Emotion_final_CK_plus_XYZ_NORMAL.csv',\n",
    "        'Emotion_final_CK_plus_XXX_NORMAL.csv',\n",
    "        'Emotion_final_CK_plus_SPH_NORMAL.csv',\n",
    "        'Emotion_final_CK_plus_SPH_NORMAL_XXX.csv',\n",
    "        'Emotion_final_CK_plus_ANGLE.csv']\n",
    "\n",
    "path = path+file[3]\n",
    "path"
   ]
  },
  {
   "cell_type": "code",
   "execution_count": 15,
   "metadata": {},
   "outputs": [
    {
     "output_type": "execute_result",
     "data": {
      "text/plain": [
       "            0         1         2         3         4         5         6  \\\n",
       "905 -2.012280 -1.955319 -1.884118 -1.812916 -1.613552 -1.357226 -1.015459   \n",
       "906 -2.017583 -1.956157 -1.756521 -1.695095 -1.495460 -1.234398 -0.911910   \n",
       "907 -2.274356 -2.130907 -2.005389 -1.861940 -1.646766 -1.306074 -0.965382   \n",
       "908 -2.050473 -1.967792 -1.835504 -1.752823 -1.620535 -1.322886 -0.975628   \n",
       "909 -1.977261 -1.910151 -1.775932 -1.708823 -1.574604 -1.306166 -0.970619   \n",
       "910 -2.224402 -2.154738 -2.015408 -1.928328 -1.719334 -1.440675 -1.162017   \n",
       "911 -2.045399 -1.979246 -1.830401 -1.764248 -1.615403 -1.334252 -0.986947   \n",
       "912 -2.164564 -2.098655 -1.966838 -1.818544 -1.686727 -1.340707 -0.994686   \n",
       "913 -2.063654 -1.984166 -1.904678 -1.761599 -1.618520 -1.332363 -1.046205   \n",
       "914 -2.024283 -2.024283 -1.964599 -1.825337 -1.686074 -1.407548 -1.129023   \n",
       "915 -2.133103 -2.061224 -1.935437 -1.791680 -1.594014 -1.306499 -0.965076   \n",
       "916 -1.946849 -1.883898 -1.737013 -1.611111 -1.485209 -1.275373 -1.023569   \n",
       "917 -2.164973 -2.098018 -1.947368 -1.880413 -1.662808 -1.378247 -1.026732   \n",
       "918 -2.023103 -1.952227 -1.881350 -1.721879 -1.651002 -1.367497 -1.013115   \n",
       "919 -2.054134 -1.991300 -1.849922 -1.692836 -1.472915 -1.190160 -0.891696   \n",
       "\n",
       "            7         8         9  ...       195       196       197  \\\n",
       "905 -0.545529  0.052563  0.650656  ...  0.578513  0.267378  0.660808   \n",
       "906 -0.512639  0.070911  0.654461  ...  0.424693  0.199046  0.494467   \n",
       "907 -0.481241  0.146350  0.684285  ...  0.510776  0.278490  0.567972   \n",
       "908 -0.545690  0.165361  0.744123  ...  0.011804 -0.221597  0.324078   \n",
       "909 -0.618295 -0.014310  0.656784  ...  0.417848  0.227870  0.587330   \n",
       "910 -0.744029 -0.117047  0.457686  ...  0.672188  0.472394  0.741579   \n",
       "911 -0.573490 -0.011188  0.617268  ...  0.510648  0.321917  0.624725   \n",
       "912 -0.516849  0.092805  0.636551  ...  0.272404  0.103207  0.471404   \n",
       "913 -0.601071  0.050732  0.623047  ...  0.397866  0.205742  0.551813   \n",
       "914 -0.711235 -0.034816  0.581919  ...  0.407546  0.186205  0.540448   \n",
       "915 -0.479895  0.131073  0.688132  ...  0.518971  0.302342  0.611112   \n",
       "916 -0.624880 -0.037339  0.571187  ...  0.362411  0.116953  0.525817   \n",
       "917 -0.591521 -0.022401  0.546720  ...  0.367685  0.186026  0.504915   \n",
       "918 -0.658733 -0.020846  0.563884  ...  0.368518  0.163106  0.468175   \n",
       "919 -0.530397  0.050822  0.632041  ...  0.340756  0.143591  0.441709   \n",
       "\n",
       "          198       199       200       201       202       203  Emotion  \n",
       "905  0.706114  0.634687  0.167185  0.632947  0.686335  0.660699        4  \n",
       "906  0.549886  0.521594  0.256059  0.557397  0.557082  0.528627        6  \n",
       "907  0.607193  0.543330  0.176011  0.520696  0.556640  0.547950        6  \n",
       "908  0.395218  0.339848 -0.214400  0.195044  0.232680  0.177880        5  \n",
       "909  0.650472  0.611608  0.274667  0.554151  0.556397  0.528332        6  \n",
       "910  0.770580  0.703517  0.329421  0.681578  0.717795  0.717474        6  \n",
       "911  0.666631  0.615229  0.265707  0.589113  0.606249  0.594563        1  \n",
       "912  0.520081  0.455767  0.016814  0.355052  0.386432  0.365910        6  \n",
       "913  0.604376  0.549784  0.171473  0.487884  0.509323  0.488534        6  \n",
       "914  0.599226  0.547007  0.177248  0.499243  0.521481  0.489739        6  \n",
       "915  0.662509  0.608890  0.269544  0.566133  0.587501  0.568102        6  \n",
       "916  0.586292  0.543022  0.147978  0.500111  0.521090  0.484816        1  \n",
       "917  0.551129  0.500436  0.140043  0.466390  0.483525  0.467769        6  \n",
       "918  0.518037  0.475225  0.158525  0.478194  0.492835  0.470152        6  \n",
       "919  0.485525  0.439919  0.117037  0.432463  0.451854  0.432882        6  \n",
       "\n",
       "[15 rows x 205 columns]"
      ],
      "text/html": "<div>\n<style scoped>\n    .dataframe tbody tr th:only-of-type {\n        vertical-align: middle;\n    }\n\n    .dataframe tbody tr th {\n        vertical-align: top;\n    }\n\n    .dataframe thead th {\n        text-align: right;\n    }\n</style>\n<table border=\"1\" class=\"dataframe\">\n  <thead>\n    <tr style=\"text-align: right;\">\n      <th></th>\n      <th>0</th>\n      <th>1</th>\n      <th>2</th>\n      <th>3</th>\n      <th>4</th>\n      <th>5</th>\n      <th>6</th>\n      <th>7</th>\n      <th>8</th>\n      <th>9</th>\n      <th>...</th>\n      <th>195</th>\n      <th>196</th>\n      <th>197</th>\n      <th>198</th>\n      <th>199</th>\n      <th>200</th>\n      <th>201</th>\n      <th>202</th>\n      <th>203</th>\n      <th>Emotion</th>\n    </tr>\n  </thead>\n  <tbody>\n    <tr>\n      <th>905</th>\n      <td>-2.012280</td>\n      <td>-1.955319</td>\n      <td>-1.884118</td>\n      <td>-1.812916</td>\n      <td>-1.613552</td>\n      <td>-1.357226</td>\n      <td>-1.015459</td>\n      <td>-0.545529</td>\n      <td>0.052563</td>\n      <td>0.650656</td>\n      <td>...</td>\n      <td>0.578513</td>\n      <td>0.267378</td>\n      <td>0.660808</td>\n      <td>0.706114</td>\n      <td>0.634687</td>\n      <td>0.167185</td>\n      <td>0.632947</td>\n      <td>0.686335</td>\n      <td>0.660699</td>\n      <td>4</td>\n    </tr>\n    <tr>\n      <th>906</th>\n      <td>-2.017583</td>\n      <td>-1.956157</td>\n      <td>-1.756521</td>\n      <td>-1.695095</td>\n      <td>-1.495460</td>\n      <td>-1.234398</td>\n      <td>-0.911910</td>\n      <td>-0.512639</td>\n      <td>0.070911</td>\n      <td>0.654461</td>\n      <td>...</td>\n      <td>0.424693</td>\n      <td>0.199046</td>\n      <td>0.494467</td>\n      <td>0.549886</td>\n      <td>0.521594</td>\n      <td>0.256059</td>\n      <td>0.557397</td>\n      <td>0.557082</td>\n      <td>0.528627</td>\n      <td>6</td>\n    </tr>\n    <tr>\n      <th>907</th>\n      <td>-2.274356</td>\n      <td>-2.130907</td>\n      <td>-2.005389</td>\n      <td>-1.861940</td>\n      <td>-1.646766</td>\n      <td>-1.306074</td>\n      <td>-0.965382</td>\n      <td>-0.481241</td>\n      <td>0.146350</td>\n      <td>0.684285</td>\n      <td>...</td>\n      <td>0.510776</td>\n      <td>0.278490</td>\n      <td>0.567972</td>\n      <td>0.607193</td>\n      <td>0.543330</td>\n      <td>0.176011</td>\n      <td>0.520696</td>\n      <td>0.556640</td>\n      <td>0.547950</td>\n      <td>6</td>\n    </tr>\n    <tr>\n      <th>908</th>\n      <td>-2.050473</td>\n      <td>-1.967792</td>\n      <td>-1.835504</td>\n      <td>-1.752823</td>\n      <td>-1.620535</td>\n      <td>-1.322886</td>\n      <td>-0.975628</td>\n      <td>-0.545690</td>\n      <td>0.165361</td>\n      <td>0.744123</td>\n      <td>...</td>\n      <td>0.011804</td>\n      <td>-0.221597</td>\n      <td>0.324078</td>\n      <td>0.395218</td>\n      <td>0.339848</td>\n      <td>-0.214400</td>\n      <td>0.195044</td>\n      <td>0.232680</td>\n      <td>0.177880</td>\n      <td>5</td>\n    </tr>\n    <tr>\n      <th>909</th>\n      <td>-1.977261</td>\n      <td>-1.910151</td>\n      <td>-1.775932</td>\n      <td>-1.708823</td>\n      <td>-1.574604</td>\n      <td>-1.306166</td>\n      <td>-0.970619</td>\n      <td>-0.618295</td>\n      <td>-0.014310</td>\n      <td>0.656784</td>\n      <td>...</td>\n      <td>0.417848</td>\n      <td>0.227870</td>\n      <td>0.587330</td>\n      <td>0.650472</td>\n      <td>0.611608</td>\n      <td>0.274667</td>\n      <td>0.554151</td>\n      <td>0.556397</td>\n      <td>0.528332</td>\n      <td>6</td>\n    </tr>\n    <tr>\n      <th>910</th>\n      <td>-2.224402</td>\n      <td>-2.154738</td>\n      <td>-2.015408</td>\n      <td>-1.928328</td>\n      <td>-1.719334</td>\n      <td>-1.440675</td>\n      <td>-1.162017</td>\n      <td>-0.744029</td>\n      <td>-0.117047</td>\n      <td>0.457686</td>\n      <td>...</td>\n      <td>0.672188</td>\n      <td>0.472394</td>\n      <td>0.741579</td>\n      <td>0.770580</td>\n      <td>0.703517</td>\n      <td>0.329421</td>\n      <td>0.681578</td>\n      <td>0.717795</td>\n      <td>0.717474</td>\n      <td>6</td>\n    </tr>\n    <tr>\n      <th>911</th>\n      <td>-2.045399</td>\n      <td>-1.979246</td>\n      <td>-1.830401</td>\n      <td>-1.764248</td>\n      <td>-1.615403</td>\n      <td>-1.334252</td>\n      <td>-0.986947</td>\n      <td>-0.573490</td>\n      <td>-0.011188</td>\n      <td>0.617268</td>\n      <td>...</td>\n      <td>0.510648</td>\n      <td>0.321917</td>\n      <td>0.624725</td>\n      <td>0.666631</td>\n      <td>0.615229</td>\n      <td>0.265707</td>\n      <td>0.589113</td>\n      <td>0.606249</td>\n      <td>0.594563</td>\n      <td>1</td>\n    </tr>\n    <tr>\n      <th>912</th>\n      <td>-2.164564</td>\n      <td>-2.098655</td>\n      <td>-1.966838</td>\n      <td>-1.818544</td>\n      <td>-1.686727</td>\n      <td>-1.340707</td>\n      <td>-0.994686</td>\n      <td>-0.516849</td>\n      <td>0.092805</td>\n      <td>0.636551</td>\n      <td>...</td>\n      <td>0.272404</td>\n      <td>0.103207</td>\n      <td>0.471404</td>\n      <td>0.520081</td>\n      <td>0.455767</td>\n      <td>0.016814</td>\n      <td>0.355052</td>\n      <td>0.386432</td>\n      <td>0.365910</td>\n      <td>6</td>\n    </tr>\n    <tr>\n      <th>913</th>\n      <td>-2.063654</td>\n      <td>-1.984166</td>\n      <td>-1.904678</td>\n      <td>-1.761599</td>\n      <td>-1.618520</td>\n      <td>-1.332363</td>\n      <td>-1.046205</td>\n      <td>-0.601071</td>\n      <td>0.050732</td>\n      <td>0.623047</td>\n      <td>...</td>\n      <td>0.397866</td>\n      <td>0.205742</td>\n      <td>0.551813</td>\n      <td>0.604376</td>\n      <td>0.549784</td>\n      <td>0.171473</td>\n      <td>0.487884</td>\n      <td>0.509323</td>\n      <td>0.488534</td>\n      <td>6</td>\n    </tr>\n    <tr>\n      <th>914</th>\n      <td>-2.024283</td>\n      <td>-2.024283</td>\n      <td>-1.964599</td>\n      <td>-1.825337</td>\n      <td>-1.686074</td>\n      <td>-1.407548</td>\n      <td>-1.129023</td>\n      <td>-0.711235</td>\n      <td>-0.034816</td>\n      <td>0.581919</td>\n      <td>...</td>\n      <td>0.407546</td>\n      <td>0.186205</td>\n      <td>0.540448</td>\n      <td>0.599226</td>\n      <td>0.547007</td>\n      <td>0.177248</td>\n      <td>0.499243</td>\n      <td>0.521481</td>\n      <td>0.489739</td>\n      <td>6</td>\n    </tr>\n    <tr>\n      <th>915</th>\n      <td>-2.133103</td>\n      <td>-2.061224</td>\n      <td>-1.935437</td>\n      <td>-1.791680</td>\n      <td>-1.594014</td>\n      <td>-1.306499</td>\n      <td>-0.965076</td>\n      <td>-0.479895</td>\n      <td>0.131073</td>\n      <td>0.688132</td>\n      <td>...</td>\n      <td>0.518971</td>\n      <td>0.302342</td>\n      <td>0.611112</td>\n      <td>0.662509</td>\n      <td>0.608890</td>\n      <td>0.269544</td>\n      <td>0.566133</td>\n      <td>0.587501</td>\n      <td>0.568102</td>\n      <td>6</td>\n    </tr>\n    <tr>\n      <th>916</th>\n      <td>-1.946849</td>\n      <td>-1.883898</td>\n      <td>-1.737013</td>\n      <td>-1.611111</td>\n      <td>-1.485209</td>\n      <td>-1.275373</td>\n      <td>-1.023569</td>\n      <td>-0.624880</td>\n      <td>-0.037339</td>\n      <td>0.571187</td>\n      <td>...</td>\n      <td>0.362411</td>\n      <td>0.116953</td>\n      <td>0.525817</td>\n      <td>0.586292</td>\n      <td>0.543022</td>\n      <td>0.147978</td>\n      <td>0.500111</td>\n      <td>0.521090</td>\n      <td>0.484816</td>\n      <td>1</td>\n    </tr>\n    <tr>\n      <th>917</th>\n      <td>-2.164973</td>\n      <td>-2.098018</td>\n      <td>-1.947368</td>\n      <td>-1.880413</td>\n      <td>-1.662808</td>\n      <td>-1.378247</td>\n      <td>-1.026732</td>\n      <td>-0.591521</td>\n      <td>-0.022401</td>\n      <td>0.546720</td>\n      <td>...</td>\n      <td>0.367685</td>\n      <td>0.186026</td>\n      <td>0.504915</td>\n      <td>0.551129</td>\n      <td>0.500436</td>\n      <td>0.140043</td>\n      <td>0.466390</td>\n      <td>0.483525</td>\n      <td>0.467769</td>\n      <td>6</td>\n    </tr>\n    <tr>\n      <th>918</th>\n      <td>-2.023103</td>\n      <td>-1.952227</td>\n      <td>-1.881350</td>\n      <td>-1.721879</td>\n      <td>-1.651002</td>\n      <td>-1.367497</td>\n      <td>-1.013115</td>\n      <td>-0.658733</td>\n      <td>-0.020846</td>\n      <td>0.563884</td>\n      <td>...</td>\n      <td>0.368518</td>\n      <td>0.163106</td>\n      <td>0.468175</td>\n      <td>0.518037</td>\n      <td>0.475225</td>\n      <td>0.158525</td>\n      <td>0.478194</td>\n      <td>0.492835</td>\n      <td>0.470152</td>\n      <td>6</td>\n    </tr>\n    <tr>\n      <th>919</th>\n      <td>-2.054134</td>\n      <td>-1.991300</td>\n      <td>-1.849922</td>\n      <td>-1.692836</td>\n      <td>-1.472915</td>\n      <td>-1.190160</td>\n      <td>-0.891696</td>\n      <td>-0.530397</td>\n      <td>0.050822</td>\n      <td>0.632041</td>\n      <td>...</td>\n      <td>0.340756</td>\n      <td>0.143591</td>\n      <td>0.441709</td>\n      <td>0.485525</td>\n      <td>0.439919</td>\n      <td>0.117037</td>\n      <td>0.432463</td>\n      <td>0.451854</td>\n      <td>0.432882</td>\n      <td>6</td>\n    </tr>\n  </tbody>\n</table>\n<p>15 rows × 205 columns</p>\n</div>"
     },
     "metadata": {},
     "execution_count": 15
    }
   ],
   "source": [
    "df = pd.read_csv(path)\n",
    "df = df.drop(['Image_name'], axis = 1)\n",
    "df = df.drop(['Unnamed: 0'], axis = 1)\n",
    "for i in range(1,10):\n",
    "    df = df.sample(frac=1).reset_index(drop=True)\n",
    "df.tail(15)"
   ]
  },
  {
   "cell_type": "code",
   "execution_count": 16,
   "metadata": {},
   "outputs": [],
   "source": [
    "X = df.drop('Emotion', axis=1)\n",
    "y = df.Emotion"
   ]
  },
  {
   "cell_type": "code",
   "execution_count": 17,
   "metadata": {},
   "outputs": [],
   "source": [
    "X_train,X_test,y_train,y_test=train_test_split(X,y,test_size=0.3)"
   ]
  },
  {
   "cell_type": "code",
   "execution_count": 18,
   "metadata": {},
   "outputs": [
    {
     "output_type": "stream",
     "name": "stdout",
     "text": [
      "0.7101449275362319\n",
      "0.8043483527131784\n"
     ]
    }
   ],
   "source": [
    "from sklearn.neighbors import KNeighborsClassifier \n",
    "knn = KNeighborsClassifier(n_neighbors = 7).fit(X_train, y_train) \n",
    "  \n",
    "# accuracy on X_test \n",
    "accuracy = knn.score(X_test, y_test) \n",
    "print(accuracy) \n",
    "  \n",
    "# creating a confusion matrix \n",
    "knn_predictions = knn.predict(X_test)  \n",
    "cm = confusion_matrix(y_test, knn_predictions) \n",
    "\n",
    "scores = cross_val_score(knn,X_train, y_train,cv=5)\n",
    "print(scores.mean())"
   ]
  }
 ]
}